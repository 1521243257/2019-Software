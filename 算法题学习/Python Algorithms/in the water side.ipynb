{
 "cells": [
  {
   "cell_type": "code",
   "execution_count": 2,
   "metadata": {},
   "outputs": [],
   "source": [
    "\"\"\"\n",
    "- 爬楼梯：\n",
    "- 楼梯共有 n 个台阶，一步可以走 1 阶、 2 阶、 3 阶，走完n个台阶共有多少种不同的走法\n",
    "\"\"\"\n",
    "\n",
    "# 递归解法\n",
    "def climb(n):\n",
    "    if n == 0:      # 没台阶可走了\n",
    "        return 1\n",
    "    elif n < 0:\n",
    "        return 0\n",
    "    return climb(n - 1) + climb(n - 2) + climb(n - 3)\n",
    "\n",
    "# 非递归解法\n",
    "def climb2(n):\n",
    "    a, b, c = 1, 2, 4        # 1阶一种走法、2阶两种走法、3阶四种走法\n",
    "    for _ in range(n - 1):\n",
    "        a, b, c = b, c, a + b + c\n",
    "    return a"
   ]
  },
  {
   "cell_type": "markdown",
   "metadata": {},
   "source": [
    "Python对递归的深度限制为1000层，超过会报RecursionError错误"
   ]
  },
  {
   "cell_type": "code",
   "execution_count": 4,
   "metadata": {},
   "outputs": [
    {
     "data": {
      "text/plain": [
       "274"
      ]
     },
     "execution_count": 4,
     "metadata": {},
     "output_type": "execute_result"
    }
   ],
   "source": [
    "num = climb(10)\n",
    "num"
   ]
  },
  {
   "cell_type": "code",
   "execution_count": 5,
   "metadata": {},
   "outputs": [
    {
     "data": {
      "text/plain": [
       "2758842807766486252615892411656158645133100149652696210351601845036392978912293462801016485671033253921841350537004356434253826361707295202024537559785200706502368152965047761644352316799391470273906561574500883480570560512982435681502330814068718832813973880527601"
      ]
     },
     "execution_count": 5,
     "metadata": {},
     "output_type": "execute_result"
    }
   ],
   "source": [
    "# climb函数优化\n",
    "from functools import lru_cache\n",
    "\n",
    "@lru_cache()\n",
    "def climb(n):\n",
    "    if n == 0:      # 没台阶可走了\n",
    "        return 1\n",
    "    elif n < 0:\n",
    "        return 0\n",
    "    return climb(n - 1) + climb(n - 2) + climb(n - 3)\n",
    "\n",
    "num = climb(1000)\n",
    "num"
   ]
  },
  {
   "cell_type": "markdown",
   "metadata": {},
   "source": [
    "递归函数：函数直接或者间接调用了自身\n",
    "\n",
    "递归函数要点：1、收敛条件 - 即什么时候结束递归；2、递归公式 - 每一项与前一项（前 N 项）的关系 "
   ]
  },
  {
   "cell_type": "markdown",
   "metadata": {},
   "source": [
    "![Z4tz8K.png](https://s2.ax1x.com/2019/07/13/Z4tz8K.png)\n",
    "\n",
    "**[简单的使用回溯法生成 Tile Based 迷宫](https://indienova.com/indie-game-development/generate-tile-based-maze-with-backtracking/)**"
   ]
  },
  {
   "cell_type": "code",
   "execution_count": 10,
   "metadata": {},
   "outputs": [
    {
     "name": "stdout",
     "output_type": "stream",
     "text": [
      "□ ■ ■ □ □ □ □ □ □ □ \n",
      "□ □ □ ■ ■ ■ □ □ ■ ■ \n",
      "□ □ □ □ □ □ □ □ □ □ \n",
      "□ ■ ■ ■ □ □ ■ ■ □ ■ \n",
      "□ ■ □ ■ ■ □ □ □ □ □ \n",
      "■ ■ ■ ■ □ □ ■ □ □ □ \n",
      "□ □ □ □ □ □ □ □ □ □ \n",
      "■ ■ □ □ □ □ □ □ □ □ \n",
      "□ □ ■ □ ■ □ □ □ □ ■ \n",
      "□ □ □ ■ ■ □ □ □ □ □ \n"
     ]
    }
   ],
   "source": [
    "\"\"\"\n",
    "- 随机迷宫生成\n",
    "- 简单的使用回溯法生成 Tile Based 迷宫：https://indienova.com/indie-game-development/generate-tile-based-maze-with-backtracking/\n",
    "\"\"\"\n",
    "import random\n",
    "\n",
    "WALL = -1   # 墙\n",
    "ROAD = 0    # 通路\n",
    "\n",
    "ROWS = 10\n",
    "COLS = 10\n",
    "\n",
    "def reset(maze):\n",
    "    \"\"\"重置迷宫\"\"\"\n",
    "    for i in range(ROWS):\n",
    "        for j in range(COLS):\n",
    "            num = random.randint(1, 10)\n",
    "            maze[i][j] = WALL if num > 7 else ROAD\n",
    "    maze[0][0] = maze[ROWS - 1][COLS - 1] = ROAD    # 左上角入口，右下角出口\n",
    "\n",
    "\n",
    "def display(maze):\n",
    "    \"\"\"显示迷宫\"\"\"\n",
    "    for row in maze:\n",
    "        for col in row:\n",
    "            if col == -1:\n",
    "                print('■', end=' ')\n",
    "            elif col == 0:\n",
    "                print('□', end=' ')\n",
    "        print() # 换行\n",
    "\n",
    "def main():\n",
    "    maze = [[0] * COLS for _ in range(ROWS)]\n",
    "    reset(maze)\n",
    "    display(maze)\n",
    "    \n",
    "main()"
   ]
  },
  {
   "cell_type": "code",
   "execution_count": 12,
   "metadata": {},
   "outputs": [
    {
     "name": "stdout",
     "output_type": "stream",
     "text": [
      "□ □ □ ■ □ □ □ ■ ■ □ \n",
      "■ ■ □ □ □ □ ■ ■ □ □ \n",
      "□ ■ □ □ □ □ ■ □ □ □ \n",
      "■ □ □ ■ □ □ ■ □ □ ■ \n",
      "□ □ □ ■ □ □ □ □ ■ ■ \n",
      "□ ■ □ □ □ □ □ □ ■ ■ \n",
      "□ □ □ ■ □ ■ □ ■ □ □ \n",
      "□ ■ □ □ □ □ ■ □ □ ■ \n",
      "■ □ ■ □ □ □ ■ □ ■ □ \n",
      "□ □ ■ □ □ □ ■ □ □ □ \n",
      "没有出路!!!\n"
     ]
    }
   ],
   "source": [
    "\"\"\"\n",
    "迷宫寻路\n",
    "\"\"\"\n",
    "import random\n",
    "import sys\n",
    "\n",
    "WALL = -1\n",
    "ROAD = 0\n",
    "\n",
    "ROWS = 10\n",
    "COLS = 10\n",
    "\n",
    "\n",
    "def find_way(maze, i=0, j=0, step=1):\n",
    "    \"\"\"走迷宫\"\"\"\n",
    "    if 0 <= i < ROWS and 0 <= j < COLS and maze[i][j] == 0:\n",
    "        maze[i][j] = step  # 记录步数\n",
    "        if i == ROWS - 1 and j == COLS - 1:\n",
    "            print('=' * 50)\n",
    "            display(maze)  # 一条通路\n",
    "            sys.exit(0)    # 退出\n",
    "        # 下、上、左、右递归搜索\n",
    "        find_way(maze, i + 1, j, step + 1)  # 往下走\n",
    "        find_way(maze, i, j + 1, step + 1)  # 往右走\n",
    "        find_way(maze, i - 1, j, step + 1)  # 往上走\n",
    "        find_way(maze, i, j - 1, step + 1)  # 往左走\n",
    "        maze[i][j] = ROAD # 都走不通，回溯\n",
    "\n",
    "\n",
    "def reset(maze):\n",
    "    \"\"\"重置迷宫\"\"\"\n",
    "    for i in range(ROWS):\n",
    "        for j in range(COLS):\n",
    "            num = random.randint(1, 10)\n",
    "            maze[i][j] = WALL if num > 7 else ROAD\n",
    "    maze[0][0] = maze[ROWS - 1][COLS - 1] = ROAD\n",
    "\n",
    "\n",
    "def display(maze):\n",
    "    \"\"\"显示迷宫\"\"\"\n",
    "    for row in maze:\n",
    "        for col in row:\n",
    "            if col == -1:\n",
    "                print('■', end=' ')\n",
    "            elif col == 0:\n",
    "                print('□', end=' ')\n",
    "            else:\n",
    "                print(f'{col}'.ljust(2), end='')\n",
    "        print()\n",
    "\n",
    "\n",
    "def main():\n",
    "    \"\"\"主函数\"\"\"\n",
    "    maze = [[0] * COLS for _ in range(ROWS)]\n",
    "    reset(maze)\n",
    "    display(maze)\n",
    "    find_way(maze)\n",
    "    print('没有出路!!!')\n",
    "\n",
    "\n",
    "if __name__ == '__main__':\n",
    "    main()"
   ]
  },
  {
   "cell_type": "code",
   "execution_count": 17,
   "metadata": {},
   "outputs": [
    {
     "name": "stdout",
     "output_type": "stream",
     "text": [
      "□ ■ ■ □ ■ ■ ■ □ □ □ \n",
      "□ □ □ □ □ □ □ □ □ ■ \n",
      "□ □ □ ■ ■ ■ □ □ □ ■ \n",
      "□ □ □ □ ■ □ □ □ □ □ \n",
      "■ □ □ □ □ □ ■ ■ ■ □ \n",
      "□ □ ■ □ □ □ ■ □ ■ □ \n",
      "□ □ □ ■ □ □ □ ■ □ □ \n",
      "■ □ ■ □ □ □ □ ■ □ □ \n",
      "□ ■ □ □ □ ■ □ □ □ □ \n",
      "■ □ □ □ ■ ■ □ □ ■ □ \n",
      "====================\n",
      "1  ■ ■ □ ■ ■ ■ □ □ □ \n",
      "2  □ □ □ □ □ □ □ □ ■ \n",
      "3  □ □ ■ ■ ■ □ □ □ ■ \n",
      "4  5  □ □ ■ □ □ □ □ □ \n",
      "■ 6  7  8  □ □ ■ ■ ■ □ \n",
      "□ □ ■ 9  10 □ ■ □ ■ □ \n",
      "□ □ □ ■ 11 □ □ ■ □ □ \n",
      "■ □ ■ □ 12 13 14 ■ □ □ \n",
      "□ ■ □ □ □ ■ 15 18 19 20 \n",
      "■ □ □ □ ■ ■ 16 17 ■ 21 \n"
     ]
    },
    {
     "ename": "SystemExit",
     "evalue": "0",
     "output_type": "error",
     "traceback": [
      "An exception has occurred, use %tb to see the full traceback.\n",
      "\u001b[1;31mSystemExit\u001b[0m\u001b[1;31m:\u001b[0m 0\n"
     ]
    }
   ],
   "source": [
    "\"\"\"\n",
    "迷宫寻路\n",
    "\"\"\"\n",
    "import random\n",
    "import sys\n",
    "\n",
    "WALL = -1\n",
    "ROAD = 0\n",
    "\n",
    "ROWS = 10\n",
    "COLS = 10\n",
    "\n",
    "\n",
    "def find_way(maze, i=0, j=0, step=1):\n",
    "    \"\"\"走迷宫\"\"\"\n",
    "    if 0 <= i < ROWS and 0 <= j < COLS and maze[i][j] == 0:\n",
    "        maze[i][j] = step\n",
    "        if i == ROWS - 1 and j == COLS - 1:\n",
    "            print('=' * 20)\n",
    "            display(maze)\n",
    "            sys.exit(0)\n",
    "        find_way(maze, i + 1, j, step + 1)\n",
    "        find_way(maze, i, j + 1, step + 1)\n",
    "        find_way(maze, i - 1, j, step + 1)\n",
    "        find_way(maze, i, j - 1, step + 1)\n",
    "        maze[i][j] = ROAD\n",
    "\n",
    "\n",
    "def reset(maze):\n",
    "    \"\"\"重置迷宫\"\"\"\n",
    "    for i in range(ROWS):\n",
    "        for j in range(COLS):\n",
    "            num = random.randint(1, 10)\n",
    "            maze[i][j] = WALL if num > 7 else ROAD\n",
    "    maze[0][0] = maze[ROWS - 1][COLS - 1] = ROAD\n",
    "\n",
    "\n",
    "def display(maze):\n",
    "    \"\"\"显示迷宫\"\"\"\n",
    "    for row in maze:\n",
    "        for col in row:\n",
    "            if col == -1:\n",
    "                print('■', end=' ')\n",
    "            elif col == 0:\n",
    "                print('□', end=' ')\n",
    "            else:\n",
    "                print(f'{col}'.ljust(2), end=' ')\n",
    "        print()\n",
    "\n",
    "\n",
    "def main():\n",
    "    \"\"\"主函数\"\"\"\n",
    "    maze = [[0] * COLS for _ in range(ROWS)]\n",
    "    reset(maze)\n",
    "    display(maze)\n",
    "    find_way(maze)\n",
    "    print('没有出路!!!')\n",
    "\n",
    "\n",
    "if __name__ == '__main__':\n",
    "    main()\n"
   ]
  },
  {
   "cell_type": "code",
   "execution_count": null,
   "metadata": {},
   "outputs": [],
   "source": []
  }
 ],
 "metadata": {
  "kernelspec": {
   "display_name": "Python 3",
   "language": "python",
   "name": "python3"
  },
  "language_info": {
   "codemirror_mode": {
    "name": "ipython",
    "version": 3
   },
   "file_extension": ".py",
   "mimetype": "text/x-python",
   "name": "python",
   "nbconvert_exporter": "python",
   "pygments_lexer": "ipython3",
   "version": "3.7.4"
  }
 },
 "nbformat": 4,
 "nbformat_minor": 2
}
